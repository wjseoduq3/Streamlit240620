{
 "cells": [
  {
   "cell_type": "code",
   "execution_count": 12,
   "metadata": {},
   "outputs": [
    {
     "name": "stderr",
     "output_type": "stream",
     "text": [
      "C:\\Users\\JBEDU30\\AppData\\Local\\Temp\\ipykernel_15968\\1583476027.py:17: FutureWarning: Passing literal html to 'read_html' is deprecated and will be removed in a future version. To read from a literal string, wrap it in a 'StringIO' object.\n",
      "  dfs = pd.read_html(str(tables[0]))\n",
      "C:\\Users\\JBEDU30\\AppData\\Local\\Temp\\ipykernel_15968\\1583476027.py:17: FutureWarning: Passing literal html to 'read_html' is deprecated and will be removed in a future version. To read from a literal string, wrap it in a 'StringIO' object.\n",
      "  dfs = pd.read_html(str(tables[0]))\n",
      "C:\\Users\\JBEDU30\\AppData\\Local\\Temp\\ipykernel_15968\\1583476027.py:17: FutureWarning: Passing literal html to 'read_html' is deprecated and will be removed in a future version. To read from a literal string, wrap it in a 'StringIO' object.\n",
      "  dfs = pd.read_html(str(tables[0]))\n",
      "C:\\Users\\JBEDU30\\AppData\\Local\\Temp\\ipykernel_15968\\1583476027.py:17: FutureWarning: Passing literal html to 'read_html' is deprecated and will be removed in a future version. To read from a literal string, wrap it in a 'StringIO' object.\n",
      "  dfs = pd.read_html(str(tables[0]))\n",
      "C:\\Users\\JBEDU30\\AppData\\Local\\Temp\\ipykernel_15968\\1583476027.py:17: FutureWarning: Passing literal html to 'read_html' is deprecated and will be removed in a future version. To read from a literal string, wrap it in a 'StringIO' object.\n",
      "  dfs = pd.read_html(str(tables[0]))\n",
      "C:\\Users\\JBEDU30\\AppData\\Local\\Temp\\ipykernel_15968\\1583476027.py:17: FutureWarning: Passing literal html to 'read_html' is deprecated and will be removed in a future version. To read from a literal string, wrap it in a 'StringIO' object.\n",
      "  dfs = pd.read_html(str(tables[0]))\n",
      "C:\\Users\\JBEDU30\\AppData\\Local\\Temp\\ipykernel_15968\\1583476027.py:17: FutureWarning: Passing literal html to 'read_html' is deprecated and will be removed in a future version. To read from a literal string, wrap it in a 'StringIO' object.\n",
      "  dfs = pd.read_html(str(tables[0]))\n",
      "C:\\Users\\JBEDU30\\AppData\\Local\\Temp\\ipykernel_15968\\1583476027.py:17: FutureWarning: Passing literal html to 'read_html' is deprecated and will be removed in a future version. To read from a literal string, wrap it in a 'StringIO' object.\n",
      "  dfs = pd.read_html(str(tables[0]))\n",
      "C:\\Users\\JBEDU30\\AppData\\Local\\Temp\\ipykernel_15968\\1583476027.py:17: FutureWarning: Passing literal html to 'read_html' is deprecated and will be removed in a future version. To read from a literal string, wrap it in a 'StringIO' object.\n",
      "  dfs = pd.read_html(str(tables[0]))\n"
     ]
    },
    {
     "name": "stdout",
     "output_type": "stream",
     "text": [
      "            날짜   매매기준율  전일대비       현찰               송금        \n",
      "            날짜   매매기준율  전일대비     사실 때     파실 때   보내실 때   받으실 때\n",
      "0   2024.06.20  1382.0   1.0  1406.18  1357.82  1395.5  1368.5\n",
      "1   2024.06.19  1383.0   1.0  1407.20  1358.80  1396.5  1369.5\n",
      "2   2024.06.18  1382.0   0.0  1406.18  1357.82  1395.5  1368.5\n",
      "3   2024.06.17  1382.0   7.0  1406.18  1357.82  1395.5  1368.5\n",
      "4   2024.06.14  1389.0  11.0  1413.30  1364.70  1402.6  1375.4\n",
      "..         ...     ...   ...      ...      ...     ...     ...\n",
      "5   2024.01.29  1334.5   3.5  1357.85  1311.15  1347.5  1321.5\n",
      "6   2024.01.26  1338.0   0.0  1361.41  1314.59  1351.1  1324.9\n",
      "7   2024.01.25  1338.0   4.5  1361.41  1314.59  1351.1  1324.9\n",
      "8   2024.01.24  1333.5   6.5  1356.83  1310.17  1346.5  1320.5\n",
      "9   2024.01.23  1340.0   0.0  1363.45  1316.55  1353.1  1326.9\n",
      "\n",
      "[100 rows x 7 columns]\n"
     ]
    },
    {
     "name": "stderr",
     "output_type": "stream",
     "text": [
      "C:\\Users\\JBEDU30\\AppData\\Local\\Temp\\ipykernel_15968\\1583476027.py:17: FutureWarning: Passing literal html to 'read_html' is deprecated and will be removed in a future version. To read from a literal string, wrap it in a 'StringIO' object.\n",
      "  dfs = pd.read_html(str(tables[0]))\n"
     ]
    }
   ],
   "source": [
    "from bs4 import BeautifulSoup\n",
    "import requests\n",
    "\n",
    "import pandas as pd   \n",
    "currency_code='USD'\n",
    "last_page_no= 10\n",
    "df = pd.DataFrame()\n",
    "\n",
    "for page_no in range(1, last_page_no+1):\n",
    "    url=f\"https://finance.naver.com/marketindex/exchangeDailyQuote.naver?marketindexCd=FX_{currency_code}KRW&page={page_no}\"\n",
    "    response = requests.get(url)\n",
    "    html_content = response.content\n",
    "\n",
    "    soup= BeautifulSoup(html_content, \"html.parser\")\n",
    "    tables = soup.find_all('table')\n",
    "\n",
    "    dfs = pd.read_html(str(tables[0]))\n",
    "    df = pd.concat([df, dfs[0]],ignore_index=False)\n",
    "\n",
    "# dfs = pd.read_html(url,encoding='cp949')\n",
    "# print(dfs)\n",
    "print(df)\n"
   ]
  },
  {
   "cell_type": "code",
   "execution_count": null,
   "metadata": {},
   "outputs": [],
   "source": [
    "%pip install pandas\n"
   ]
  }
 ],
 "metadata": {
  "kernelspec": {
   "display_name": "Python 3",
   "language": "python",
   "name": "python3"
  },
  "language_info": {
   "codemirror_mode": {
    "name": "ipython",
    "version": 3
   },
   "file_extension": ".py",
   "mimetype": "text/x-python",
   "name": "python",
   "nbconvert_exporter": "python",
   "pygments_lexer": "ipython3",
   "version": "3.12.3"
  }
 },
 "nbformat": 4,
 "nbformat_minor": 2
}
